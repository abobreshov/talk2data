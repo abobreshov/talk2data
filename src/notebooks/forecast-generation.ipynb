{
 "cells": [
  {
   "cell_type": "markdown",
   "metadata": {},
   "source": [
    "# Forecast Generation with TiREx\n",
    "\n",
    "This notebook generates historical forecasts and latest forecasts for grocery products using TiREx."
   ]
  },
  {
   "cell_type": "code",
   "metadata": {
    "ExecuteTime": {
     "end_time": "2025-07-14T16:43:03.498551Z",
     "start_time": "2025-07-14T16:42:57.952748Z"
    }
   },
   "source": [
    "# Import required libraries\n",
    "import os\n",
    "import sys\n",
    "import warnings\n",
    "warnings.filterwarnings('ignore')\n",
    "\n",
    "# Import torch first to check CUDA availability\n",
    "import torch\n",
    "\n",
    "# Set environment variables BEFORE importing anything else\n",
    "os.environ['PYTORCH_DISABLE_DYNAMO'] = '1'\n",
    "\n",
    "# Only configure for CPU if CUDA is not available\n",
    "if not torch.cuda.is_available():\n",
    "    os.environ['TIREX_NO_CUDA'] = '1'\n",
    "    os.environ['CUDA_VISIBLE_DEVICES'] = ''\n",
    "\n",
    "import numpy as np\n",
    "import pandas as pd\n",
    "from datetime import datetime, timedelta\n",
    "import duckdb\n",
    "import uuid\n",
    "from tqdm import tqdm\n",
    "import matplotlib.pyplot as plt\n",
    "import seaborn as sns\n",
    "\n",
    "# Import TiREx\n",
    "from tirex import load_model\n",
    "\n",
    "print(f\"PyTorch version: {torch.__version__}\")\n",
    "print(f\"CUDA available: {torch.cuda.is_available()}\")\n",
    "print(f\"Using backend: {'CUDA' if torch.cuda.is_available() and os.environ.get('TIREX_NO_CUDA') != '1' else 'CPU (vanilla)'}\")"
   ],
   "outputs": [
    {
     "name": "stdout",
     "output_type": "stream",
     "text": [
      "PyTorch version: 2.7.1+cu126\n",
      "CUDA available: False\n",
      "Using backend: CPU (vanilla)\n"
     ]
    }
   ],
   "execution_count": 1
  },
  {
   "cell_type": "markdown",
   "metadata": {},
   "source": [
    "## 1. Create Forecast Table Schema"
   ]
  },
  {
   "cell_type": "code",
   "metadata": {
    "ExecuteTime": {
     "end_time": "2025-07-14T16:43:06.526328Z",
     "start_time": "2025-07-14T16:43:06.491783Z"
    }
   },
   "source": [
    "# Connect to database\n",
    "conn = duckdb.connect('../data/grocery_final.db')\n",
    "\n",
    "# Create forecast table\n",
    "conn.execute(\"DROP TABLE IF EXISTS forecasts\")\n",
    "\n",
    "conn.execute(\"\"\"\n",
    "    CREATE TABLE forecasts (\n",
    "        forecast_id TEXT PRIMARY KEY,\n",
    "        run_id TEXT NOT NULL,\n",
    "        forecast_date DATE NOT NULL,\n",
    "        productId TEXT NOT NULL,\n",
    "        target_date DATE NOT NULL,\n",
    "        forecast_horizon INTEGER NOT NULL,\n",
    "        predicted_quantity REAL NOT NULL,\n",
    "        confidence_lower REAL NOT NULL,\n",
    "        confidence_upper REAL NOT NULL,\n",
    "        model_name TEXT DEFAULT 'TiREx',\n",
    "        created_at TIMESTAMP DEFAULT CURRENT_TIMESTAMP,\n",
    "        FOREIGN KEY (productId) REFERENCES products(productId)\n",
    "    )\n",
    "\"\"\")\n",
    "\n",
    "# Create indexes\n",
    "conn.execute(\"CREATE INDEX idx_forecasts_product_date ON forecasts(productId, forecast_date)\")\n",
    "conn.execute(\"CREATE INDEX idx_forecasts_target_date ON forecasts(target_date)\")\n",
    "conn.execute(\"CREATE INDEX idx_forecasts_run_id ON forecasts(run_id)\")\n",
    "\n",
    "print(\"✓ Forecast table created successfully\")"
   ],
   "outputs": [
    {
     "name": "stdout",
     "output_type": "stream",
     "text": [
      "✓ Forecast table created successfully\n"
     ]
    }
   ],
   "execution_count": 2
  },
  {
   "cell_type": "markdown",
   "metadata": {},
   "source": [
    "## 2. Load TiREx Model"
   ]
  },
  {
   "cell_type": "code",
   "metadata": {
    "ExecuteTime": {
     "end_time": "2025-07-14T16:43:13.387151Z",
     "start_time": "2025-07-14T16:43:12.418662Z"
    }
   },
   "source": [
    "# Load TiREx model\n",
    "device = torch.device('cuda' if torch.cuda.is_available() else 'cpu')\n",
    "model = load_model(\"NX-AI/TiRex\", device=device)\n",
    "print(f\"✓ Model loaded on {device}\")"
   ],
   "outputs": [
    {
     "name": "stdout",
     "output_type": "stream",
     "text": [
      "✓ Model loaded on cpu\n"
     ]
    }
   ],
   "execution_count": 3
  },
  {
   "cell_type": "markdown",
   "metadata": {},
   "source": [
    "## 3. Helper Functions"
   ]
  },
  {
   "metadata": {
    "ExecuteTime": {
     "end_time": "2025-07-14T16:43:15.585156Z",
     "start_time": "2025-07-14T16:43:15.577044Z"
    }
   },
   "cell_type": "code",
   "source": [
    "def get_products_from_sales(conn, min_days=90):\n",
    "    \"\"\"Get all unique products from sales table\"\"\"\n",
    "    query = \"\"\"\n",
    "        SELECT DISTINCT\n",
    "            s.productId,\n",
    "            p.name as product_name,\n",
    "            p.category,\n",
    "            COUNT(DISTINCT CAST(s.saleDate AS DATE)) as days_with_sales,\n",
    "            SUM(s.quantity) as total_quantity\n",
    "        FROM sales s\n",
    "        JOIN products p ON s.productId = p.productId\n",
    "        GROUP BY s.productId, p.name, p.category\n",
    "        HAVING days_with_sales >= ?  -- Minimum days with sales\n",
    "        ORDER BY total_quantity DESC\n",
    "    \"\"\"\n",
    "    return conn.execute(query, [min_days]).df()\n",
    "\n",
    "def get_top_products(conn, limit=100):\n",
    "    \"\"\"Get top products by sales volume (for test mode)\"\"\"\n",
    "    query = \"\"\"\n",
    "        SELECT \n",
    "            s.productId,\n",
    "            p.name as product_name,\n",
    "            p.category,\n",
    "            COUNT(DISTINCT CAST(s.saleDate AS DATE)) as days_with_sales,\n",
    "            SUM(s.quantity) as total_quantity\n",
    "        FROM sales s\n",
    "        JOIN products p ON s.productId = p.productId\n",
    "        GROUP BY s.productId, p.name, p.category\n",
    "        HAVING days_with_sales >= 180  -- At least 6 months of data\n",
    "        ORDER BY total_quantity DESC\n",
    "        LIMIT ?\n",
    "    \"\"\"\n",
    "    return conn.execute(query, [limit]).df()\n",
    "\n",
    "def prepare_time_series_batch(conn, product_ids, end_date, context_length=90):\n",
    "    \"\"\"Prepare time series data for multiple products\"\"\"\n",
    "    batch_context = []\n",
    "    \n",
    "    # Get date range for context\n",
    "    start_date = end_date - timedelta(days=context_length)\n",
    "    date_range = pd.date_range(start=start_date, end=end_date, freq='D')\n",
    "    \n",
    "    for pid in product_ids:\n",
    "        # Get daily sales\n",
    "        sales_data = conn.execute(\"\"\"\n",
    "            SELECT \n",
    "                CAST(saleDate AS DATE) as sale_date,\n",
    "                SUM(quantity) as daily_quantity\n",
    "            FROM sales\n",
    "            WHERE productId = ? \n",
    "                AND CAST(saleDate AS DATE) >= ?\n",
    "                AND CAST(saleDate AS DATE) <= ?\n",
    "            GROUP BY CAST(saleDate AS DATE)\n",
    "        \"\"\", [pid, start_date.date(), end_date.date()]).df()\n",
    "        \n",
    "        # Create time series\n",
    "        ts_data = pd.Series(index=date_range, data=0.0)\n",
    "        for _, row in sales_data.iterrows():\n",
    "            sale_date = pd.to_datetime(row['sale_date'])\n",
    "            if sale_date in ts_data.index:\n",
    "                ts_data[sale_date] = row['daily_quantity']\n",
    "        \n",
    "        # Get context (last context_length days)\n",
    "        context = ts_data.values[-context_length:]\n",
    "        batch_context.append(context)\n",
    "    \n",
    "    return np.array(batch_context)\n",
    "\n",
    "def generate_forecasts_batch(model, batch_context, prediction_length=14):\n",
    "    \"\"\"Generate forecasts for a batch of products\"\"\"\n",
    "    # Convert to tensor\n",
    "    context_tensor = torch.tensor(batch_context, dtype=torch.float32)\n",
    "    \n",
    "    # Generate forecasts\n",
    "    quantiles, mean = model.forecast(\n",
    "        context=context_tensor,\n",
    "        prediction_length=prediction_length,\n",
    "        batch_size=len(batch_context),\n",
    "        output_type=\"numpy\"\n",
    "    )\n",
    "    \n",
    "    return mean, quantiles\n",
    "\n",
    "def save_forecasts_batch(conn, forecast_records):\n",
    "    \"\"\"Save forecast records to database\"\"\"\n",
    "    if not forecast_records:\n",
    "        return\n",
    "    \n",
    "    # Insert records\n",
    "    for record in forecast_records:\n",
    "        conn.execute(\"\"\"\n",
    "            INSERT INTO forecasts (\n",
    "                forecast_id, run_id, forecast_date, productId, target_date,\n",
    "                forecast_horizon, predicted_quantity, confidence_lower, confidence_upper\n",
    "            ) VALUES (?, ?, ?, ?, ?, ?, ?, ?, ?)\n",
    "        \"\"\", [record['forecast_id'], record['run_id'], record['forecast_date'], \n",
    "              record['productId'], record['target_date'], record['forecast_horizon'],\n",
    "              record['predicted_quantity'], record['confidence_lower'], record['confidence_upper']])"
   ],
   "outputs": [],
   "execution_count": 4
  },
  {
   "cell_type": "markdown",
   "metadata": {},
   "source": [
    "## 4. Test with Small Sample"
   ]
  },
  {
   "metadata": {
    "ExecuteTime": {
     "end_time": "2025-07-14T16:45:09.761148Z",
     "start_time": "2025-07-14T16:45:09.416162Z"
    }
   },
   "cell_type": "code",
   "source": [
    "# Test parameters\n",
    "TEST_MODE = False  # Set to False for production mode\n",
    "TEST_PRODUCTS = 3\n",
    "TEST_DAYS = 7  # Test with 7 days of historical forecasts\n",
    "\n",
    "# Get products based on mode\n",
    "if TEST_MODE:\n",
    "    # Test mode: use top products by sales\n",
    "    products_df = get_top_products(conn, TEST_PRODUCTS)\n",
    "    print(f\"TEST MODE: Selected top {len(products_df)} products by sales volume\")\n",
    "else:\n",
    "    # Production mode: use ALL unique products from sales\n",
    "    products_df = get_products_from_sales(conn, min_days=90)\n",
    "    print(f\"PRODUCTION MODE: Selected {len(products_df)} unique products from sales\")\n",
    "\n",
    "print(\"\\nSample products:\")\n",
    "print(products_df[['product_name', 'total_quantity']].head(10))"
   ],
   "outputs": [
    {
     "name": "stdout",
     "output_type": "stream",
     "text": [
      "PRODUCTION MODE: Selected 2069 unique products from sales\n",
      "\n",
      "Sample products:\n",
      "                           product_name  total_quantity\n",
      "0                                Banana        261423.0\n",
      "1                           Corned Beef        162449.0\n",
      "2                         Baking Potato        130704.0\n",
      "3           Baked Beans in Tomato Sauce         87023.0\n",
      "4                   Wheat Bisks 36 Pack         81233.0\n",
      "5                  Garden Peas in Water         65486.0\n",
      "6               British Baking Potatoes         54447.0\n",
      "7                 Golden Vegetable Rice         52379.0\n",
      "8  British Extra Lean Beef Mince 3% Fat         44881.0\n",
      "9                          Rice Pudding         43622.0\n"
     ]
    }
   ],
   "execution_count": 5
  },
  {
   "metadata": {
    "ExecuteTime": {
     "end_time": "2025-07-14T16:52:13.629631Z",
     "start_time": "2025-07-14T16:52:13.615953Z"
    }
   },
   "cell_type": "code",
   "source": [
    "# Get date range\n",
    "date_info = conn.execute(\"\"\"\n",
    "    SELECT \n",
    "        MIN(CAST(saleDate AS DATE)) as min_date,\n",
    "        MAX(CAST(saleDate AS DATE)) as max_date\n",
    "    FROM sales\n",
    "\"\"\").fetchone()\n",
    "\n",
    "min_date = pd.to_datetime(date_info[0])\n",
    "max_date = pd.to_datetime(date_info[1])\n",
    "\n",
    "print(f\"Sales data range: {min_date.date()} to {max_date.date()}\")\n",
    "\n",
    "# Generate forecast dates (daily forecasts)\n",
    "if TEST_MODE:\n",
    "    # Test mode: just last TEST_DAYS days\n",
    "    historical_days = TEST_DAYS\n",
    "else:\n",
    "    # Production mode: last 156 days as requested\n",
    "    historical_days = 7\n",
    "\n",
    "# Calculate start date for historical forecasts\n",
    "start_date = max_date - timedelta(days=historical_days - 1)\n",
    "\n",
    "# Ensure we have enough context (90 days before first forecast)\n",
    "earliest_possible = min_date + timedelta(days=90)\n",
    "if start_date < earliest_possible:\n",
    "    start_date = earliest_possible\n",
    "    print(f\"\\\\nAdjusted start date to {start_date.date()} to ensure 90-day context\")\n",
    "\n",
    "# Generate daily forecast dates\n",
    "forecast_dates = []\n",
    "current_date = start_date\n",
    "\n",
    "while current_date <= max_date:\n",
    "    forecast_dates.append(current_date)\n",
    "    current_date += timedelta(days=1)\n",
    "\n",
    "print(f\"\\nWill generate forecasts for {len(forecast_dates)} days\")\n",
    "print(f\"Date range: {forecast_dates[0].date()} to {forecast_dates[-1].date()}\")\n",
    "print(f\"Each forecast will predict 7 days ahead\")\n",
    "\n",
    "if TEST_MODE:\n",
    "    print(\"\\nForecast dates:\")\n",
    "    for date in forecast_dates:\n",
    "        print(f\"  - {date.date()}\")"
   ],
   "outputs": [
    {
     "name": "stdout",
     "output_type": "stream",
     "text": [
      "Sales data range: 2023-07-12 to 2025-07-09\n",
      "\n",
      "Will generate forecasts for 7 days\n",
      "Date range: 2025-07-03 to 2025-07-09\n",
      "Each forecast will predict 7 days ahead\n"
     ]
    }
   ],
   "execution_count": 8
  },
  {
   "cell_type": "markdown",
   "metadata": {},
   "source": [
    "## 5. Generate Historical Forecasts"
   ]
  },
  {
   "cell_type": "code",
   "metadata": {
    "ExecuteTime": {
     "end_time": "2025-07-14T17:22:40.755171Z",
     "start_time": "2025-07-14T16:52:18.795268Z"
    }
   },
   "source": "# Generate forecasts for each date\ntotal_records = 0\nbatch_size = 3 if TEST_MODE else 20  # Larger batches for production\ncontext_length = 90\nprediction_length = 7  # 7-day forecast horizon as requested\n\nprint(f\"\\nGenerating {len(products_df)} products × {len(forecast_dates)} dates × {prediction_length} days = {len(products_df) * len(forecast_dates) * prediction_length:,} forecasts\")\n\nfor forecast_date in tqdm(forecast_dates, desc=\"Generating forecasts\"):\n    run_id = str(uuid.uuid4())\n    forecast_records = []\n    \n    # Process products in batches\n    for i in range(0, len(products_df), batch_size):\n        batch_products = products_df.iloc[i:i+batch_size]\n        product_ids = batch_products['productId'].tolist()\n        \n        # Prepare context\n        batch_context = prepare_time_series_batch(conn, product_ids, forecast_date, context_length)\n        \n        # Generate forecasts\n        try:\n            mean, quantiles = generate_forecasts_batch(model, batch_context, prediction_length)\n            \n            # Store forecast records\n            for j, pid in enumerate(product_ids):\n                for h in range(prediction_length):\n                    forecast_records.append({\n                        'forecast_id': str(uuid.uuid4()),\n                        'run_id': run_id,\n                        'forecast_date': forecast_date.date(),\n                        'productId': pid,\n                        'target_date': (forecast_date + timedelta(days=h+1)).date(),\n                        'forecast_horizon': h + 1,\n                        'predicted_quantity': float(mean[j, h]),\n                        'confidence_lower': float(quantiles[j, h, 0]),\n                        'confidence_upper': float(quantiles[j, h, -1])\n                    })\n        except Exception as e:\n            print(f\"\\nError in batch: {e}\")\n            continue\n    \n    # Save to database\n    save_forecasts_batch(conn, forecast_records)\n    total_records += len(forecast_records)\n    conn.commit()\n\nprint(f\"\\n✓ Generated {total_records:,} forecast records\")",
   "outputs": [
    {
     "name": "stdout",
     "output_type": "stream",
     "text": [
      "\n",
      "Generating 2069 products × 7 dates × 7 days = 101,381 forecasts\n"
     ]
    },
    {
     "name": "stderr",
     "output_type": "stream",
     "text": [
      "Generating forecasts:  71%|███████▏  | 5/7 [30:21<12:08, 364.38s/it]\n"
     ]
    },
    {
     "ename": "FatalException",
     "evalue": "FATAL Error: Failed to create checkpoint because of error: Could not remove file \"/home/abobreshov/work/dataart/talk2data/grocery_poc/src/notebooks/../data/grocery_final.db.wal\": No such file or directory",
     "output_type": "error",
     "traceback": [
      "\u001B[31m---------------------------------------------------------------------------\u001B[39m",
      "\u001B[31mFatalException\u001B[39m                            Traceback (most recent call last)",
      "\u001B[36mCell\u001B[39m\u001B[36m \u001B[39m\u001B[32mIn[9]\u001B[39m\u001B[32m, line 44\u001B[39m\n\u001B[32m     41\u001B[39m         \u001B[38;5;28;01mcontinue\u001B[39;00m\n\u001B[32m     43\u001B[39m \u001B[38;5;66;03m# Save to database\u001B[39;00m\n\u001B[32m---> \u001B[39m\u001B[32m44\u001B[39m save_forecasts_batch(conn, forecast_records)\n\u001B[32m     45\u001B[39m total_records += \u001B[38;5;28mlen\u001B[39m(forecast_records)\n\u001B[32m     46\u001B[39m conn.commit()\n",
      "\u001B[36mCell\u001B[39m\u001B[36m \u001B[39m\u001B[32mIn[4]\u001B[39m\u001B[32m, line 92\u001B[39m, in \u001B[36msave_forecasts_batch\u001B[39m\u001B[34m(conn, forecast_records)\u001B[39m\n\u001B[32m     90\u001B[39m \u001B[38;5;66;03m# Insert records\u001B[39;00m\n\u001B[32m     91\u001B[39m \u001B[38;5;28;01mfor\u001B[39;00m record \u001B[38;5;129;01min\u001B[39;00m forecast_records:\n\u001B[32m---> \u001B[39m\u001B[32m92\u001B[39m     conn.execute(\u001B[33m\"\"\"\u001B[39m\n\u001B[32m     93\u001B[39m \u001B[33m        INSERT INTO forecasts (\u001B[39m\n\u001B[32m     94\u001B[39m \u001B[33m            forecast_id, run_id, forecast_date, productId, target_date,\u001B[39m\n\u001B[32m     95\u001B[39m \u001B[33m            forecast_horizon, predicted_quantity, confidence_lower, confidence_upper\u001B[39m\n\u001B[32m     96\u001B[39m \u001B[33m        ) VALUES (?, ?, ?, ?, ?, ?, ?, ?, ?)\u001B[39m\n\u001B[32m     97\u001B[39m \u001B[33m    \u001B[39m\u001B[33m\"\"\"\u001B[39m, [record[\u001B[33m'\u001B[39m\u001B[33mforecast_id\u001B[39m\u001B[33m'\u001B[39m], record[\u001B[33m'\u001B[39m\u001B[33mrun_id\u001B[39m\u001B[33m'\u001B[39m], record[\u001B[33m'\u001B[39m\u001B[33mforecast_date\u001B[39m\u001B[33m'\u001B[39m], \n\u001B[32m     98\u001B[39m           record[\u001B[33m'\u001B[39m\u001B[33mproductId\u001B[39m\u001B[33m'\u001B[39m], record[\u001B[33m'\u001B[39m\u001B[33mtarget_date\u001B[39m\u001B[33m'\u001B[39m], record[\u001B[33m'\u001B[39m\u001B[33mforecast_horizon\u001B[39m\u001B[33m'\u001B[39m],\n\u001B[32m     99\u001B[39m           record[\u001B[33m'\u001B[39m\u001B[33mpredicted_quantity\u001B[39m\u001B[33m'\u001B[39m], record[\u001B[33m'\u001B[39m\u001B[33mconfidence_lower\u001B[39m\u001B[33m'\u001B[39m], record[\u001B[33m'\u001B[39m\u001B[33mconfidence_upper\u001B[39m\u001B[33m'\u001B[39m]])\n",
      "\u001B[31mFatalException\u001B[39m: FATAL Error: Failed to create checkpoint because of error: Could not remove file \"/home/abobreshov/work/dataart/talk2data/grocery_poc/src/notebooks/../data/grocery_final.db.wal\": No such file or directory"
     ]
    }
   ],
   "execution_count": 9
  },
  {
   "cell_type": "markdown",
   "metadata": {},
   "source": [
    "## 6. Create Analytical Views"
   ]
  },
  {
   "cell_type": "code",
   "metadata": {
    "ExecuteTime": {
     "end_time": "2025-07-11T12:12:17.336510Z",
     "start_time": "2025-07-11T12:12:17.320459Z"
    }
   },
   "source": [
    "# Create latest forecasts view\n",
    "conn.execute(\"DROP VIEW IF EXISTS latest_forecasts\")\n",
    "conn.execute(\"\"\"\n",
    "    CREATE VIEW latest_forecasts AS\n",
    "    SELECT * FROM forecasts \n",
    "    WHERE (productId, forecast_date) IN (\n",
    "        SELECT productId, MAX(forecast_date) \n",
    "        FROM forecasts \n",
    "        GROUP BY productId\n",
    "    )\n",
    "\"\"\")\n",
    "\n",
    "# Create forecast accuracy view\n",
    "conn.execute(\"DROP VIEW IF EXISTS forecast_accuracy\")\n",
    "conn.execute(\"\"\"\n",
    "    CREATE VIEW forecast_accuracy AS\n",
    "    SELECT \n",
    "        f.productId,\n",
    "        f.forecast_date,\n",
    "        f.target_date,\n",
    "        f.forecast_horizon,\n",
    "        f.predicted_quantity,\n",
    "        s.actual_quantity,\n",
    "        ABS(f.predicted_quantity - s.actual_quantity) as absolute_error,\n",
    "        CASE \n",
    "            WHEN s.actual_quantity > 0 \n",
    "            THEN (f.predicted_quantity - s.actual_quantity) / s.actual_quantity \n",
    "            ELSE NULL \n",
    "        END as relative_error\n",
    "    FROM forecasts f\n",
    "    LEFT JOIN (\n",
    "        SELECT productId, \n",
    "               CAST(saleDate AS DATE) as sale_date,\n",
    "               SUM(quantity) as actual_quantity\n",
    "        FROM sales\n",
    "        GROUP BY productId, CAST(saleDate AS DATE)\n",
    "    ) s ON f.productId = s.productId AND f.target_date = s.sale_date\n",
    "    WHERE s.actual_quantity IS NOT NULL\n",
    "\"\"\")\n",
    "\n",
    "print(\"✓ Analytical views created\")"
   ],
   "outputs": [
    {
     "name": "stdout",
     "output_type": "stream",
     "text": [
      "✓ Analytical views created\n"
     ]
    }
   ],
   "execution_count": 15
  },
  {
   "cell_type": "markdown",
   "metadata": {},
   "source": [
    "## 7. Verify Results"
   ]
  },
  {
   "cell_type": "code",
   "metadata": {
    "ExecuteTime": {
     "end_time": "2025-07-11T12:12:20.902675Z",
     "start_time": "2025-07-11T12:12:20.887386Z"
    }
   },
   "source": [
    "# Summary statistics\n",
    "stats = conn.execute(\"\"\"\n",
    "    SELECT \n",
    "        COUNT(DISTINCT forecast_date) as num_dates,\n",
    "        COUNT(DISTINCT productId) as num_products,\n",
    "        COUNT(*) as total_forecasts,\n",
    "        MIN(forecast_date) as earliest_date,\n",
    "        MAX(forecast_date) as latest_date\n",
    "    FROM forecasts\n",
    "\"\"\").fetchone()\n",
    "\n",
    "print(\"Forecast Summary:\")\n",
    "print(f\"  - Forecast dates: {stats[0]}\")\n",
    "print(f\"  - Products: {stats[1]}\")\n",
    "print(f\"  - Total records: {stats[2]:,}\")\n",
    "print(f\"  - Date range: {stats[3]} to {stats[4]}\")\n",
    "\n",
    "# Sample forecasts\n",
    "print(\"\\nSample Forecasts:\")\n",
    "samples = conn.execute(\"\"\"\n",
    "    SELECT \n",
    "        p.name as product_name,\n",
    "        f.forecast_date,\n",
    "        f.target_date,\n",
    "        f.predicted_quantity,\n",
    "        f.confidence_lower,\n",
    "        f.confidence_upper\n",
    "    FROM forecasts f\n",
    "    JOIN products p ON f.productId = p.productId\n",
    "    WHERE f.forecast_horizon = 1\n",
    "    ORDER BY f.forecast_date DESC, f.predicted_quantity DESC\n",
    "    LIMIT 5\n",
    "\"\"\").df()\n",
    "\n",
    "print(samples)"
   ],
   "outputs": [
    {
     "name": "stdout",
     "output_type": "stream",
     "text": [
      "Forecast Summary:\n",
      "  - Forecast dates: 7\n",
      "  - Products: 3\n",
      "  - Total records: 147\n",
      "  - Date range: 2025-07-03 to 2025-07-09\n",
      "\n",
      "Sample Forecasts:\n",
      "                           product_name forecast_date target_date  \\\n",
      "0             Chicken Tikka Filled Naan    2025-07-09  2025-07-10   \n",
      "1      Ready To Eat Roast Whole Chicken    2025-07-09  2025-07-10   \n",
      "2  100% British Beef Wagyu Fillet Steak    2025-07-09  2025-07-10   \n",
      "3             Chicken Tikka Filled Naan    2025-07-08  2025-07-09   \n",
      "4      Ready To Eat Roast Whole Chicken    2025-07-08  2025-07-09   \n",
      "\n",
      "   predicted_quantity  confidence_lower  confidence_upper  \n",
      "0          114.068596         90.061890        148.287750  \n",
      "1           65.151657         49.709152         83.413269  \n",
      "2           12.502313          8.715284         17.172276  \n",
      "3          129.167145        103.003754        166.622604  \n",
      "4           74.339638         60.975128         91.678177  \n"
     ]
    }
   ],
   "execution_count": 16
  },
  {
   "cell_type": "markdown",
   "metadata": {},
   "source": [
    "## 8. Generate Latest Forecast"
   ]
  },
  {
   "cell_type": "code",
   "metadata": {
    "ExecuteTime": {
     "end_time": "2025-07-11T10:13:39.421751Z",
     "start_time": "2025-07-11T10:13:38.659162Z"
    }
   },
   "source": "# Get latest date and generate fresh forecast\nlatest_date = pd.to_datetime(conn.execute(\"SELECT MAX(CAST(saleDate AS DATE)) FROM sales\").fetchone()[0])\nprint(f\"Generating 7-day forecast from {latest_date.date()}...\")\n\n# Use the same products as historical forecasts\nactive_products = products_df\nprint(f\"Forecasting for {len(active_products)} products...\")\n\n# Generate latest forecasts\nrun_id = str(uuid.uuid4())\nlatest_forecast_records = []\nbatch_size = 3 if TEST_MODE else 20\nprediction_length = 7  # 7-day forecast\n\nfor i in tqdm(range(0, len(active_products), batch_size), desc=\"Generating latest forecasts\"):\n    batch_products = active_products.iloc[i:i+batch_size]\n    product_ids = batch_products['productId'].tolist()\n    \n    # Prepare context\n    batch_context = prepare_time_series_batch(conn, product_ids, latest_date, context_length)\n    \n    # Generate forecasts\n    try:\n        mean, quantiles = generate_forecasts_batch(model, batch_context, prediction_length)\n        \n        # Store forecast records\n        for j, pid in enumerate(product_ids):\n            for h in range(prediction_length):\n                latest_forecast_records.append({\n                    'forecast_id': str(uuid.uuid4()),\n                    'run_id': run_id,\n                    'forecast_date': latest_date.date(),\n                    'productId': pid,\n                    'target_date': (latest_date + timedelta(days=h+1)).date(),\n                    'forecast_horizon': h + 1,\n                    'predicted_quantity': float(mean[j, h]),\n                    'confidence_lower': float(quantiles[j, h, 0]),\n                    'confidence_upper': float(quantiles[j, h, -1])\n                })\n    except Exception as e:\n        print(f\"\\nError in batch: {e}\")\n        continue\n\n# Save latest forecasts\nsave_forecasts_batch(conn, latest_forecast_records)\nconn.commit()\n\nprint(f\"\\n✓ Generated {len(latest_forecast_records):,} latest forecast records\")\nprint(f\"✓ Forecast covers {latest_date.date()} to {(latest_date + timedelta(days=7)).date()}\")",
   "outputs": [],
   "execution_count": null
  },
  {
   "cell_type": "markdown",
   "metadata": {},
   "source": [
    "## 9. Visualize Forecast Accuracy"
   ]
  },
  {
   "cell_type": "code",
   "metadata": {
    "ExecuteTime": {
     "end_time": "2025-07-11T10:13:53.274532Z",
     "start_time": "2025-07-11T10:13:52.877040Z"
    }
   },
   "source": [
    "# Get accuracy metrics\n",
    "accuracy_df = conn.execute(\"\"\"\n",
    "    SELECT \n",
    "        forecast_horizon,\n",
    "        AVG(ABS(relative_error)) as mape,\n",
    "        AVG(absolute_error) as mae,\n",
    "        COUNT(*) as num_forecasts\n",
    "    FROM forecast_accuracy\n",
    "    WHERE relative_error IS NOT NULL\n",
    "        AND ABS(relative_error) < 2  -- Remove outliers\n",
    "    GROUP BY forecast_horizon\n",
    "    ORDER BY forecast_horizon\n",
    "\"\"\").df()\n",
    "\n",
    "if len(accuracy_df) > 0:\n",
    "    # Plot accuracy by horizon\n",
    "    fig, (ax1, ax2) = plt.subplots(1, 2, figsize=(12, 5))\n",
    "    \n",
    "    # MAPE by horizon\n",
    "    ax1.plot(accuracy_df['forecast_horizon'], accuracy_df['mape'] * 100, 'b-o')\n",
    "    ax1.set_xlabel('Forecast Horizon (days)')\n",
    "    ax1.set_ylabel('MAPE (%)')\n",
    "    ax1.set_title('Mean Absolute Percentage Error by Horizon')\n",
    "    ax1.grid(True, alpha=0.3)\n",
    "    \n",
    "    # MAE by horizon\n",
    "    ax2.plot(accuracy_df['forecast_horizon'], accuracy_df['mae'], 'r-o')\n",
    "    ax2.set_xlabel('Forecast Horizon (days)')\n",
    "    ax2.set_ylabel('MAE (units)')\n",
    "    ax2.set_title('Mean Absolute Error by Horizon')\n",
    "    ax2.grid(True, alpha=0.3)\n",
    "    \n",
    "    plt.tight_layout()\n",
    "    plt.show()\n",
    "    \n",
    "    print(\"\\nAccuracy Summary:\")\n",
    "    print(accuracy_df)\n",
    "else:\n",
    "    print(\"No accuracy data available yet (forecasts too recent)\")"
   ],
   "outputs": [
    {
     "data": {
      "text/plain": [
       "<Figure size 1200x500 with 2 Axes>"
      ],
      "image/png": "[encoded data removed]"
     },
     "metadata": {},
     "output_type": "display_data"
    },
    {
     "name": "stdout",
     "output_type": "stream",
     "text": [
      "\n",
      "Accuracy Summary:\n",
      "   forecast_horizon      mape        mae  num_forecasts\n",
      "0                 1  0.193110  14.483780              6\n",
      "1                 2  0.132650  15.587333              6\n",
      "2                 3  0.121515  10.029146              6\n",
      "3                 4  0.188982   9.157621              3\n",
      "4                 5  0.090097   4.035004              3\n",
      "5                 6  0.110792   7.755836              3\n",
      "6                 7  0.128251  13.293947              3\n",
      "7                 8  0.167079  12.412483              3\n",
      "8                 9  0.112254  10.960140              3\n",
      "9                10  0.124050  14.002374              3\n"
     ]
    }
   ],
   "execution_count": 12
  },
  {
   "cell_type": "markdown",
   "metadata": {},
   "source": [
    "## 10. Query Latest Forecasts"
   ]
  },
  {
   "cell_type": "code",
   "metadata": {
    "ExecuteTime": {
     "end_time": "2025-07-11T10:14:07.143008Z",
     "start_time": "2025-07-11T10:14:07.088971Z"
    }
   },
   "source": [
    "# Show latest forecasts for top products\n",
    "latest_forecasts = conn.execute(\"\"\"\n",
    "    SELECT \n",
    "        p.name as product_name,\n",
    "        f.target_date,\n",
    "        f.predicted_quantity,\n",
    "        f.confidence_lower,\n",
    "        f.confidence_upper,\n",
    "        f.forecast_horizon\n",
    "    FROM latest_forecasts f\n",
    "    JOIN products p ON f.productId = p.productId\n",
    "    WHERE f.forecast_date = (\n",
    "        SELECT MAX(forecast_date) FROM forecasts\n",
    "    )\n",
    "    AND f.forecast_horizon <= 7  -- Next week only\n",
    "    ORDER BY f.predicted_quantity DESC, f.target_date\n",
    "    LIMIT 10\n",
    "\"\"\").df()\n",
    "\n",
    "print(\"Top Products - Next 7 Days Forecast:\")\n",
    "print(latest_forecasts)\n",
    "\n",
    "# Close connection\n",
    "conn.close()"
   ],
   "outputs": [
    {
     "name": "stdout",
     "output_type": "stream",
     "text": [
      "Top Products - Next 7 Days Forecast:\n",
      "                       product_name target_date  predicted_quantity  \\\n",
      "0         Chicken Tikka Filled Naan  2025-07-15          161.919952   \n",
      "1         Chicken Tikka Filled Naan  2025-07-14          153.875153   \n",
      "2         Chicken Tikka Filled Naan  2025-07-16          136.148407   \n",
      "3         Chicken Tikka Filled Naan  2025-07-13          125.079765   \n",
      "4         Chicken Tikka Filled Naan  2025-07-10          114.068596   \n",
      "5         Chicken Tikka Filled Naan  2025-07-12           99.063774   \n",
      "6         Chicken Tikka Filled Naan  2025-07-11           98.634079   \n",
      "7  Ready To Eat Roast Whole Chicken  2025-07-14           81.155823   \n",
      "8  Ready To Eat Roast Whole Chicken  2025-07-15           79.471977   \n",
      "9  Ready To Eat Roast Whole Chicken  2025-07-16           77.085655   \n",
      "\n",
      "   confidence_lower  confidence_upper  forecast_horizon  \n",
      "0        128.685837        200.620514                 6  \n",
      "1        121.229172        195.641357                 5  \n",
      "2        106.236725        174.257599                 7  \n",
      "3         98.436150        162.836807                 4  \n",
      "4         90.061890        148.287750                 1  \n",
      "5         75.991791        131.679916                 3  \n",
      "6         75.415466        131.113480                 2  \n",
      "7         63.764683        100.030136                 5  \n",
      "8         62.571136         97.563545                 6  \n",
      "9         60.172073         94.941772                 7  \n"
     ]
    }
   ],
   "execution_count": 13
  },
  {
   "cell_type": "markdown",
   "metadata": {},
   "source": [
    "## Summary\n",
    "\n",
    "This notebook has:\n",
    "1. Created a forecast table in the database\n",
    "2. Generated historical weekly forecasts\n",
    "3. Created the latest 14-day forecast\n",
    "4. Set up analytical views for accuracy tracking\n",
    "5. Visualized forecast accuracy metrics\n",
    "\n",
    "To run in production mode:\n",
    "- Set `TEST_MODE = False`\n",
    "- Adjust `TEST_PRODUCTS` and other parameters as needed"
   ]
  }
 ],
 "metadata": {
  "kernelspec": {
   "display_name": "Python 3",
   "language": "python",
   "name": "python3"
  },
  "language_info": {
   "codemirror_mode": {
    "name": "ipython",
    "version": 3
   },
   "file_extension": ".py",
   "mimetype": "text/x-python",
   "name": "python",
   "nbconvert_exporter": "python",
   "pygments_lexer": "ipython3",
   "version": "3.8.0"
  }
 },
 "nbformat": 4,
 "nbformat_minor": 4
}
